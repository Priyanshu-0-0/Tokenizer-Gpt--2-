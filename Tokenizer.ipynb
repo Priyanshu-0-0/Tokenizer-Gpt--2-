{
 "cells": [
  {
   "cell_type": "markdown",
   "metadata": {},
   "source": [
    "<h1>Tokenization"
   ]
  },
  {
   "cell_type": "markdown",
   "metadata": {},
   "source": [
    "Traning the tokenizer using BPE Algorithm"
   ]
  },
  {
   "cell_type": "code",
   "execution_count": 99,
   "metadata": {},
   "outputs": [],
   "source": [
    "text=\"\"\"Bonjour! 🌟 Welcome to the magical world of language! In this vast universe of words, where the sky is the limit, let's embark on a journey together, exploring the beauty and diversity of different languages. ¡Hola amigos! ¿Cómo están? Today, we're going to delve into the wonders of multilingualism. Imagine being able to speak fluently in various tongues, connecting with people from all walks of life. C'est fantastique! 🎉\n",
    "\n",
    "Let's start with English, the language of Shakespeare and modern communication. English is a global language, spoken by millions around the world. From the bustling streets of New York City to the serene countryside of England, English bridges cultures and societies. It's a language of opportunity, innovation, and creativity. So, grab your cup of tea ☕️ and let's dive into the world of English literature and culture.\n",
    "\n",
    "Pero no podemos olvidar el hermoso idioma español. Con sus ricos sonidos y expresiones poéticas, el español nos lleva en un viaje a través de la pasión y el romance. Desde las vibrantes fiestas de España hasta las playas doradas de América Latina, el español es una celebración de la vida y la diversidad. ¡Viva la lengua española! 🇪🇸\n",
    "\n",
    "Maintenant, parlons français! Ah, la langue de l'amour et de la sophistication. Le français est un mélange envoûtant de finesse et d'élégance. De Paris, la ville lumière, aux champs de lavande de la Provence, le français évoque un sentiment de joie de vivre. C'est magnifique! 🥖\n",
    "\n",
    "As we journey through these languages, let's not forget the power of emojis. 😊 Emojis add color and emotion to our digital conversations. Whether it's a smiley face 😄 to brighten someone's day or a heart ❤️ to express love and affection, emojis transcend language barriers and connect us on a deeper level.\n",
    "\n",
    "Now, let's wrap up our linguistic adventure with a toast 🥂 to the beauty of language! May we continue to explore, learn, and appreciate the rich tapestry of words that make our world a more vibrant and interconnected place. Cheers to language! Salud! 🎊\n",
    "\n",
    "\n",
    "\n",
    "\n",
    "\"\"\""
   ]
  },
  {
   "cell_type": "code",
   "execution_count": 100,
   "metadata": {},
   "outputs": [
    {
     "name": "stdout",
     "output_type": "stream",
     "text": [
      "Text -\n",
      " Bonjour! 🌟 Welcome to the magical world of language! In this vast universe of words, where the sky is the limit, let's embark on a journey together, exploring the beauty and diversity of different languages. ¡Hola amigos! ¿Cómo están? Today, we're going to delve into the wonders of multilingualism. Imagine being able to speak fluently in various tongues, connecting with people from all walks of life. C'est fantastique! 🎉\n",
      "\n",
      "Let's start with English, the language of Shakespeare and modern communication. English is a global language, spoken by millions around the world. From the bustling streets of New York City to the serene countryside of England, English bridges cultures and societies. It's a language of opportunity, innovation, and creativity. So, grab your cup of tea ☕️ and let's dive into the world of English literature and culture.\n",
      "\n",
      "Pero no podemos olvidar el hermoso idioma español. Con sus ricos sonidos y expresiones poéticas, el español nos lleva en un viaje a través de la pasión y el romance. Desde las vibrantes fiestas de España hasta las playas doradas de América Latina, el español es una celebración de la vida y la diversidad. ¡Viva la lengua española! 🇪🇸\n",
      "\n",
      "Maintenant, parlons français! Ah, la langue de l'amour et de la sophistication. Le français est un mélange envoûtant de finesse et d'élégance. De Paris, la ville lumière, aux champs de lavande de la Provence, le français évoque un sentiment de joie de vivre. C'est magnifique! 🥖\n",
      "\n",
      "As we journey through these languages, let's not forget the power of emojis. 😊 Emojis add color and emotion to our digital conversations. Whether it's a smiley face 😄 to brighten someone's day or a heart ❤️ to express love and affection, emojis transcend language barriers and connect us on a deeper level.\n",
      "\n",
      "Now, let's wrap up our linguistic adventure with a toast 🥂 to the beauty of language! May we continue to explore, learn, and appreciate the rich tapestry of words that make our world a more vibrant and interconnected place. Cheers to language! Salud! 🎊\n",
      "\n",
      "\n",
      "\n",
      "\n",
      " \n",
      " Length-\n",
      "2029\n"
     ]
    }
   ],
   "source": [
    "print(f\"Text -\\n {text} \\n Length-\\n{len(text)}\")"
   ]
  },
  {
   "cell_type": "code",
   "execution_count": 101,
   "metadata": {},
   "outputs": [],
   "source": [
    "tokens=text.encode(\"utf-8\")\n"
   ]
  },
  {
   "cell_type": "code",
   "execution_count": 102,
   "metadata": {},
   "outputs": [
    {
     "name": "stdout",
     "output_type": "stream",
     "text": [
      "Text -\n",
      " b\"Bonjour! \\xf0\\x9f\\x8c\\x9f Welcome to the magical world of language! In this vast universe of words, where the sky is the limit, let's embark on a journey together, exploring the beauty and diversity of different languages. \\xc2\\xa1Hola amigos! \\xc2\\xbfC\\xc3\\xb3mo est\\xc3\\xa1n? Today, we're going to delve into the wonders of multilingualism. Imagine being able to speak fluently in various tongues, connecting with people from all walks of life. C'est fantastique! \\xf0\\x9f\\x8e\\x89\\n\\nLet's start with English, the language of Shakespeare and modern communication. English is a global language, spoken by millions around the world. From the bustling streets of New York City to the serene countryside of England, English bridges cultures and societies. It's a language of opportunity, innovation, and creativity. So, grab your cup of tea \\xe2\\x98\\x95\\xef\\xb8\\x8f and let's dive into the world of English literature and culture.\\n\\nPero no podemos olvidar el hermoso idioma espa\\xc3\\xb1ol. Con sus ricos sonidos y expresiones po\\xc3\\xa9ticas, el espa\\xc3\\xb1ol nos lleva en un viaje a trav\\xc3\\xa9s de la pasi\\xc3\\xb3n y el romance. Desde las vibrantes fiestas de Espa\\xc3\\xb1a hasta las playas doradas de Am\\xc3\\xa9rica Latina, el espa\\xc3\\xb1ol es una celebraci\\xc3\\xb3n de la vida y la diversidad. \\xc2\\xa1Viva la lengua espa\\xc3\\xb1ola! \\xf0\\x9f\\x87\\xaa\\xf0\\x9f\\x87\\xb8\\n\\nMaintenant, parlons fran\\xc3\\xa7ais! Ah, la langue de l'amour et de la sophistication. Le fran\\xc3\\xa7ais est un m\\xc3\\xa9lange envo\\xc3\\xbbtant de finesse et d'\\xc3\\xa9l\\xc3\\xa9gance. De Paris, la ville lumi\\xc3\\xa8re, aux champs de lavande de la Provence, le fran\\xc3\\xa7ais \\xc3\\xa9voque un sentiment de joie de vivre. C'est magnifique! \\xf0\\x9f\\xa5\\x96\\n\\nAs we journey through these languages, let's not forget the power of emojis. \\xf0\\x9f\\x98\\x8a Emojis add color and emotion to our digital conversations. Whether it's a smiley face \\xf0\\x9f\\x98\\x84 to brighten someone's day or a heart \\xe2\\x9d\\xa4\\xef\\xb8\\x8f to express love and affection, emojis transcend language barriers and connect us on a deeper level.\\n\\nNow, let's wrap up our linguistic adventure with a toast \\xf0\\x9f\\xa5\\x82 to the beauty of language! May we continue to explore, learn, and appreciate the rich tapestry of words that make our world a more vibrant and interconnected place. Cheers to language! Salud! \\xf0\\x9f\\x8e\\x8a\\n\\n\\n\\n\\n\" \n",
      " Length-\n",
      "2088\n"
     ]
    }
   ],
   "source": [
    "print(f\"Text -\\n {tokens} \\n Length-\\n{len(tokens)}\")"
   ]
  },
  {
   "cell_type": "code",
   "execution_count": 103,
   "metadata": {},
   "outputs": [],
   "source": [
    "tokens=list(map(int,tokens))"
   ]
  },
  {
   "cell_type": "code",
   "execution_count": 104,
   "metadata": {},
   "outputs": [
    {
     "name": "stdout",
     "output_type": "stream",
     "text": [
      "Text -\n",
      " [66, 111, 110, 106, 111, 117, 114, 33, 32, 240, 159, 140, 159, 32, 87, 101, 108, 99, 111, 109, 101, 32, 116, 111, 32, 116, 104, 101, 32, 109, 97, 103, 105, 99, 97, 108, 32, 119, 111, 114, 108, 100, 32, 111, 102, 32, 108, 97, 110, 103, 117, 97, 103, 101, 33, 32, 73, 110, 32, 116, 104, 105, 115, 32, 118, 97, 115, 116, 32, 117, 110, 105, 118, 101, 114, 115, 101, 32, 111, 102, 32, 119, 111, 114, 100, 115, 44, 32, 119, 104, 101, 114, 101, 32, 116, 104, 101, 32, 115, 107, 121, 32, 105, 115, 32, 116, 104, 101, 32, 108, 105, 109, 105, 116, 44, 32, 108, 101, 116, 39, 115, 32, 101, 109, 98, 97, 114, 107, 32, 111, 110, 32, 97, 32, 106, 111, 117, 114, 110, 101, 121, 32, 116, 111, 103, 101, 116, 104, 101, 114, 44, 32, 101, 120, 112, 108, 111, 114, 105, 110, 103, 32, 116, 104, 101, 32, 98, 101, 97, 117, 116, 121, 32, 97, 110, 100, 32, 100, 105, 118, 101, 114, 115, 105, 116, 121, 32, 111, 102, 32, 100, 105, 102, 102, 101, 114, 101, 110, 116, 32, 108, 97, 110, 103, 117, 97, 103, 101, 115, 46, 32, 194, 161, 72, 111, 108, 97, 32, 97, 109, 105, 103, 111, 115, 33, 32, 194, 191, 67, 195, 179, 109, 111, 32, 101, 115, 116, 195, 161, 110, 63, 32, 84, 111, 100, 97, 121, 44, 32, 119, 101, 39, 114, 101, 32, 103, 111, 105, 110, 103, 32, 116, 111, 32, 100, 101, 108, 118, 101, 32, 105, 110, 116, 111, 32, 116, 104, 101, 32, 119, 111, 110, 100, 101, 114, 115, 32, 111, 102, 32, 109, 117, 108, 116, 105, 108, 105, 110, 103, 117, 97, 108, 105, 115, 109, 46, 32, 73, 109, 97, 103, 105, 110, 101, 32, 98, 101, 105, 110, 103, 32, 97, 98, 108, 101, 32, 116, 111, 32, 115, 112, 101, 97, 107, 32, 102, 108, 117, 101, 110, 116, 108, 121, 32, 105, 110, 32, 118, 97, 114, 105, 111, 117, 115, 32, 116, 111, 110, 103, 117, 101, 115, 44, 32, 99, 111, 110, 110, 101, 99, 116, 105, 110, 103, 32, 119, 105, 116, 104, 32, 112, 101, 111, 112, 108, 101, 32, 102, 114, 111, 109, 32, 97, 108, 108, 32, 119, 97, 108, 107, 115, 32, 111, 102, 32, 108, 105, 102, 101, 46, 32, 67, 39, 101, 115, 116, 32, 102, 97, 110, 116, 97, 115, 116, 105, 113, 117, 101, 33, 32, 240, 159, 142, 137, 10, 10, 76, 101, 116, 39, 115, 32, 115, 116, 97, 114, 116, 32, 119, 105, 116, 104, 32, 69, 110, 103, 108, 105, 115, 104, 44, 32, 116, 104, 101, 32, 108, 97, 110, 103, 117, 97, 103, 101, 32, 111, 102, 32, 83, 104, 97, 107, 101, 115, 112, 101, 97, 114, 101, 32, 97, 110, 100, 32, 109, 111, 100, 101, 114, 110, 32, 99, 111, 109, 109, 117, 110, 105, 99, 97, 116, 105, 111, 110, 46, 32, 69, 110, 103, 108, 105, 115, 104, 32, 105, 115, 32, 97, 32, 103, 108, 111, 98, 97, 108, 32, 108, 97, 110, 103, 117, 97, 103, 101, 44, 32, 115, 112, 111, 107, 101, 110, 32, 98, 121, 32, 109, 105, 108, 108, 105, 111, 110, 115, 32, 97, 114, 111, 117, 110, 100, 32, 116, 104, 101, 32, 119, 111, 114, 108, 100, 46, 32, 70, 114, 111, 109, 32, 116, 104, 101, 32, 98, 117, 115, 116, 108, 105, 110, 103, 32, 115, 116, 114, 101, 101, 116, 115, 32, 111, 102, 32, 78, 101, 119, 32, 89, 111, 114, 107, 32, 67, 105, 116, 121, 32, 116, 111, 32, 116, 104, 101, 32, 115, 101, 114, 101, 110, 101, 32, 99, 111, 117, 110, 116, 114, 121, 115, 105, 100, 101, 32, 111, 102, 32, 69, 110, 103, 108, 97, 110, 100, 44, 32, 69, 110, 103, 108, 105, 115, 104, 32, 98, 114, 105, 100, 103, 101, 115, 32, 99, 117, 108, 116, 117, 114, 101, 115, 32, 97, 110, 100, 32, 115, 111, 99, 105, 101, 116, 105, 101, 115, 46, 32, 73, 116, 39, 115, 32, 97, 32, 108, 97, 110, 103, 117, 97, 103, 101, 32, 111, 102, 32, 111, 112, 112, 111, 114, 116, 117, 110, 105, 116, 121, 44, 32, 105, 110, 110, 111, 118, 97, 116, 105, 111, 110, 44, 32, 97, 110, 100, 32, 99, 114, 101, 97, 116, 105, 118, 105, 116, 121, 46, 32, 83, 111, 44, 32, 103, 114, 97, 98, 32, 121, 111, 117, 114, 32, 99, 117, 112, 32, 111, 102, 32, 116, 101, 97, 32, 226, 152, 149, 239, 184, 143, 32, 97, 110, 100, 32, 108, 101, 116, 39, 115, 32, 100, 105, 118, 101, 32, 105, 110, 116, 111, 32, 116, 104, 101, 32, 119, 111, 114, 108, 100, 32, 111, 102, 32, 69, 110, 103, 108, 105, 115, 104, 32, 108, 105, 116, 101, 114, 97, 116, 117, 114, 101, 32, 97, 110, 100, 32, 99, 117, 108, 116, 117, 114, 101, 46, 10, 10, 80, 101, 114, 111, 32, 110, 111, 32, 112, 111, 100, 101, 109, 111, 115, 32, 111, 108, 118, 105, 100, 97, 114, 32, 101, 108, 32, 104, 101, 114, 109, 111, 115, 111, 32, 105, 100, 105, 111, 109, 97, 32, 101, 115, 112, 97, 195, 177, 111, 108, 46, 32, 67, 111, 110, 32, 115, 117, 115, 32, 114, 105, 99, 111, 115, 32, 115, 111, 110, 105, 100, 111, 115, 32, 121, 32, 101, 120, 112, 114, 101, 115, 105, 111, 110, 101, 115, 32, 112, 111, 195, 169, 116, 105, 99, 97, 115, 44, 32, 101, 108, 32, 101, 115, 112, 97, 195, 177, 111, 108, 32, 110, 111, 115, 32, 108, 108, 101, 118, 97, 32, 101, 110, 32, 117, 110, 32, 118, 105, 97, 106, 101, 32, 97, 32, 116, 114, 97, 118, 195, 169, 115, 32, 100, 101, 32, 108, 97, 32, 112, 97, 115, 105, 195, 179, 110, 32, 121, 32, 101, 108, 32, 114, 111, 109, 97, 110, 99, 101, 46, 32, 68, 101, 115, 100, 101, 32, 108, 97, 115, 32, 118, 105, 98, 114, 97, 110, 116, 101, 115, 32, 102, 105, 101, 115, 116, 97, 115, 32, 100, 101, 32, 69, 115, 112, 97, 195, 177, 97, 32, 104, 97, 115, 116, 97, 32, 108, 97, 115, 32, 112, 108, 97, 121, 97, 115, 32, 100, 111, 114, 97, 100, 97, 115, 32, 100, 101, 32, 65, 109, 195, 169, 114, 105, 99, 97, 32, 76, 97, 116, 105, 110, 97, 44, 32, 101, 108, 32, 101, 115, 112, 97, 195, 177, 111, 108, 32, 101, 115, 32, 117, 110, 97, 32, 99, 101, 108, 101, 98, 114, 97, 99, 105, 195, 179, 110, 32, 100, 101, 32, 108, 97, 32, 118, 105, 100, 97, 32, 121, 32, 108, 97, 32, 100, 105, 118, 101, 114, 115, 105, 100, 97, 100, 46, 32, 194, 161, 86, 105, 118, 97, 32, 108, 97, 32, 108, 101, 110, 103, 117, 97, 32, 101, 115, 112, 97, 195, 177, 111, 108, 97, 33, 32, 240, 159, 135, 170, 240, 159, 135, 184, 10, 10, 77, 97, 105, 110, 116, 101, 110, 97, 110, 116, 44, 32, 112, 97, 114, 108, 111, 110, 115, 32, 102, 114, 97, 110, 195, 167, 97, 105, 115, 33, 32, 65, 104, 44, 32, 108, 97, 32, 108, 97, 110, 103, 117, 101, 32, 100, 101, 32, 108, 39, 97, 109, 111, 117, 114, 32, 101, 116, 32, 100, 101, 32, 108, 97, 32, 115, 111, 112, 104, 105, 115, 116, 105, 99, 97, 116, 105, 111, 110, 46, 32, 76, 101, 32, 102, 114, 97, 110, 195, 167, 97, 105, 115, 32, 101, 115, 116, 32, 117, 110, 32, 109, 195, 169, 108, 97, 110, 103, 101, 32, 101, 110, 118, 111, 195, 187, 116, 97, 110, 116, 32, 100, 101, 32, 102, 105, 110, 101, 115, 115, 101, 32, 101, 116, 32, 100, 39, 195, 169, 108, 195, 169, 103, 97, 110, 99, 101, 46, 32, 68, 101, 32, 80, 97, 114, 105, 115, 44, 32, 108, 97, 32, 118, 105, 108, 108, 101, 32, 108, 117, 109, 105, 195, 168, 114, 101, 44, 32, 97, 117, 120, 32, 99, 104, 97, 109, 112, 115, 32, 100, 101, 32, 108, 97, 118, 97, 110, 100, 101, 32, 100, 101, 32, 108, 97, 32, 80, 114, 111, 118, 101, 110, 99, 101, 44, 32, 108, 101, 32, 102, 114, 97, 110, 195, 167, 97, 105, 115, 32, 195, 169, 118, 111, 113, 117, 101, 32, 117, 110, 32, 115, 101, 110, 116, 105, 109, 101, 110, 116, 32, 100, 101, 32, 106, 111, 105, 101, 32, 100, 101, 32, 118, 105, 118, 114, 101, 46, 32, 67, 39, 101, 115, 116, 32, 109, 97, 103, 110, 105, 102, 105, 113, 117, 101, 33, 32, 240, 159, 165, 150, 10, 10, 65, 115, 32, 119, 101, 32, 106, 111, 117, 114, 110, 101, 121, 32, 116, 104, 114, 111, 117, 103, 104, 32, 116, 104, 101, 115, 101, 32, 108, 97, 110, 103, 117, 97, 103, 101, 115, 44, 32, 108, 101, 116, 39, 115, 32, 110, 111, 116, 32, 102, 111, 114, 103, 101, 116, 32, 116, 104, 101, 32, 112, 111, 119, 101, 114, 32, 111, 102, 32, 101, 109, 111, 106, 105, 115, 46, 32, 240, 159, 152, 138, 32, 69, 109, 111, 106, 105, 115, 32, 97, 100, 100, 32, 99, 111, 108, 111, 114, 32, 97, 110, 100, 32, 101, 109, 111, 116, 105, 111, 110, 32, 116, 111, 32, 111, 117, 114, 32, 100, 105, 103, 105, 116, 97, 108, 32, 99, 111, 110, 118, 101, 114, 115, 97, 116, 105, 111, 110, 115, 46, 32, 87, 104, 101, 116, 104, 101, 114, 32, 105, 116, 39, 115, 32, 97, 32, 115, 109, 105, 108, 101, 121, 32, 102, 97, 99, 101, 32, 240, 159, 152, 132, 32, 116, 111, 32, 98, 114, 105, 103, 104, 116, 101, 110, 32, 115, 111, 109, 101, 111, 110, 101, 39, 115, 32, 100, 97, 121, 32, 111, 114, 32, 97, 32, 104, 101, 97, 114, 116, 32, 226, 157, 164, 239, 184, 143, 32, 116, 111, 32, 101, 120, 112, 114, 101, 115, 115, 32, 108, 111, 118, 101, 32, 97, 110, 100, 32, 97, 102, 102, 101, 99, 116, 105, 111, 110, 44, 32, 101, 109, 111, 106, 105, 115, 32, 116, 114, 97, 110, 115, 99, 101, 110, 100, 32, 108, 97, 110, 103, 117, 97, 103, 101, 32, 98, 97, 114, 114, 105, 101, 114, 115, 32, 97, 110, 100, 32, 99, 111, 110, 110, 101, 99, 116, 32, 117, 115, 32, 111, 110, 32, 97, 32, 100, 101, 101, 112, 101, 114, 32, 108, 101, 118, 101, 108, 46, 10, 10, 78, 111, 119, 44, 32, 108, 101, 116, 39, 115, 32, 119, 114, 97, 112, 32, 117, 112, 32, 111, 117, 114, 32, 108, 105, 110, 103, 117, 105, 115, 116, 105, 99, 32, 97, 100, 118, 101, 110, 116, 117, 114, 101, 32, 119, 105, 116, 104, 32, 97, 32, 116, 111, 97, 115, 116, 32, 240, 159, 165, 130, 32, 116, 111, 32, 116, 104, 101, 32, 98, 101, 97, 117, 116, 121, 32, 111, 102, 32, 108, 97, 110, 103, 117, 97, 103, 101, 33, 32, 77, 97, 121, 32, 119, 101, 32, 99, 111, 110, 116, 105, 110, 117, 101, 32, 116, 111, 32, 101, 120, 112, 108, 111, 114, 101, 44, 32, 108, 101, 97, 114, 110, 44, 32, 97, 110, 100, 32, 97, 112, 112, 114, 101, 99, 105, 97, 116, 101, 32, 116, 104, 101, 32, 114, 105, 99, 104, 32, 116, 97, 112, 101, 115, 116, 114, 121, 32, 111, 102, 32, 119, 111, 114, 100, 115, 32, 116, 104, 97, 116, 32, 109, 97, 107, 101, 32, 111, 117, 114, 32, 119, 111, 114, 108, 100, 32, 97, 32, 109, 111, 114, 101, 32, 118, 105, 98, 114, 97, 110, 116, 32, 97, 110, 100, 32, 105, 110, 116, 101, 114, 99, 111, 110, 110, 101, 99, 116, 101, 100, 32, 112, 108, 97, 99, 101, 46, 32, 67, 104, 101, 101, 114, 115, 32, 116, 111, 32, 108, 97, 110, 103, 117, 97, 103, 101, 33, 32, 83, 97, 108, 117, 100, 33, 32, 240, 159, 142, 138, 10, 10, 10, 10, 10] \n",
      " Length-\n",
      "2088\n"
     ]
    }
   ],
   "source": [
    "print(f\"Text -\\n {tokens} \\n Length-\\n{len(tokens)}\")"
   ]
  },
  {
   "cell_type": "code",
   "execution_count": 121,
   "metadata": {},
   "outputs": [
    {
     "name": "stdout",
     "output_type": "stream",
     "text": [
      "Token (101, 32) is merged as 256\n",
      "Token (115, 32) is merged as 257\n",
      "Token (97, 110) is merged as 258\n",
      "Token (97, 32) is merged as 259\n",
      "Token (44, 32) is merged as 260\n",
      "Token (111, 110) is merged as 261\n",
      "Token (116, 104) is merged as 262\n",
      "Token (101, 115) is merged as 263\n",
      "Token (101, 114) is merged as 264\n",
      "Token (100, 32) is merged as 265\n",
      "Token (116, 32) is merged as 266\n",
      "Token (105, 110) is merged as 267\n",
      "Token (111, 32) is merged as 268\n",
      "Token (121, 32) is merged as 269\n",
      "Token (46, 32) is merged as 270\n",
      "Token (111, 114) is merged as 271\n",
      "Token (111, 102) is merged as 272\n",
      "Token (272, 32) is merged as 273\n",
      "Token (103, 117) is merged as 274\n",
      "Token (101, 110) is merged as 275\n"
     ]
    },
    {
     "data": {
      "text/plain": [
       "'for i in range(number_of_merges):\\n    print(f\"Token {pair_dict[i+2][0]} is merged as {i+256}\")\\n    bpe_tokens=pair_switch(token=bpe_tokens,pair=pair_dict[i][0],new_pair=i+256)'"
      ]
     },
     "execution_count": 121,
     "metadata": {},
     "output_type": "execute_result"
    }
   ],
   "source": [
    "def get_pair_counts(lst):\n",
    "    pair_dict = {}\n",
    "    for i in range(len(lst) - 1):\n",
    "        pair = (lst[i], lst[i+1])\n",
    "        if pair in pair_dict:\n",
    "            pair_dict[pair] += 1\n",
    "        else:\n",
    "            pair_dict[pair] = 1\n",
    "    #sorted_pair_counts = sorted(pair_dict.items(), key=lambda x: x[1], reverse=True)\n",
    "    #return sorted_pair_counts\n",
    "    return pair_dict\n",
    "\n",
    "\n",
    "\n",
    "\n",
    "def pair_switch(token,pair,new_pair):\n",
    "    i=0\n",
    "    np=[]\n",
    "    while i < len(token):\n",
    "        if i<len(token)-1 and token[i] and token[i]==pair[0] and token[i+1]==pair[1]:\n",
    "            np.append(new_pair)\n",
    "            i+=2\n",
    "        else :\n",
    "            np.append(token[i])\n",
    "            i+=1\n",
    "    return np\n",
    "\n",
    "\n",
    "#pair_dict=get_pair_counts(tokens)\n",
    "\n",
    "merges = {}\n",
    "vocab_size=276\n",
    "number_of_merges=vocab_size-256\n",
    "bpe_tokens=list(tokens)\n",
    "for i in range(number_of_merges):\n",
    "    pair_dict=get_pair_counts(bpe_tokens)\n",
    "    pair = max(pair_dict, key=pair_dict.get)\n",
    "    print(f\"Token {pair} is merged as {i+256}\")\n",
    "    bpe_tokens=pair_switch(bpe_tokens,pair,i+256)\n",
    "    merges[pair] = i+256\n",
    "\n",
    "\n",
    "\"\"\"for i in range(number_of_merges):\n",
    "    print(f\"Token {pair_dict[i+2][0]} is merged as {i+256}\")\n",
    "    bpe_tokens=pair_switch(token=bpe_tokens,pair=pair_dict[i][0],new_pair=i+256)\"\"\"\n"
   ]
  },
  {
   "cell_type": "code",
   "execution_count": 108,
   "metadata": {},
   "outputs": [
    {
     "name": "stdout",
     "output_type": "stream",
     "text": [
      "tokens length: 2088\n",
      "BPE TOKENS length: 1642\n",
      "compression ratio: 1.27X\n"
     ]
    }
   ],
   "source": [
    "print(\"tokens length:\", len(tokens))\n",
    "print(\"BPE TOKENS length:\", len(bpe_tokens))\n",
    "print(f\"compression ratio: {len(tokens) / len(bpe_tokens):.2f}X\")"
   ]
  },
  {
   "cell_type": "code",
   "execution_count": 107,
   "metadata": {},
   "outputs": [
    {
     "data": {
      "text/plain": [
       "{(101, 32): 256,\n",
       " (115, 32): 257,\n",
       " (97, 110): 258,\n",
       " (97, 32): 259,\n",
       " (44, 32): 260,\n",
       " (111, 110): 261,\n",
       " (116, 104): 262,\n",
       " (101, 115): 263,\n",
       " (101, 114): 264,\n",
       " (100, 32): 265,\n",
       " (116, 32): 266,\n",
       " (105, 110): 267,\n",
       " (111, 32): 268,\n",
       " (121, 32): 269,\n",
       " (46, 32): 270,\n",
       " (111, 114): 271,\n",
       " (111, 102): 272,\n",
       " (272, 32): 273,\n",
       " (103, 117): 274,\n",
       " (101, 110): 275}"
      ]
     },
     "execution_count": 107,
     "metadata": {},
     "output_type": "execute_result"
    }
   ],
   "source": [
    "merges"
   ]
  },
  {
   "cell_type": "markdown",
   "metadata": {},
   "source": [
    "Decoder"
   ]
  },
  {
   "cell_type": "code",
   "execution_count": 111,
   "metadata": {},
   "outputs": [],
   "source": [
    "vocab = {idx: bytes([idx]) for idx in range(256)}\n",
    "for (p0, p1), idx in merges.items():\n",
    "    vocab[idx] = vocab[p0] + vocab[p1]\n",
    "\n",
    "def decode(ids):\n",
    "\n",
    "  tokens = b\"\".join(vocab[idx] for idx in ids)\n",
    "  text = tokens.decode(\"utf-8\", errors=\"replace\")\n",
    "  return text\n",
    " "
   ]
  },
  {
   "cell_type": "code",
   "execution_count": 117,
   "metadata": {},
   "outputs": [
    {
     "data": {
      "text/plain": [
       "'z�b'"
      ]
     },
     "execution_count": 117,
     "metadata": {},
     "output_type": "execute_result"
    }
   ],
   "source": [
    "decode([122,221,98])"
   ]
  },
  {
   "cell_type": "markdown",
   "metadata": {},
   "source": [
    "Encoder"
   ]
  },
  {
   "cell_type": "code",
   "execution_count": 124,
   "metadata": {},
   "outputs": [],
   "source": [
    "def encoder(text):\n",
    "    # Convert the text to bytes\n",
    "    tokens=list(text.encode(\"utf-8\"))\n",
    "    while len(tokens)>=2:\n",
    "        pair_counts=get_pair_counts(tokens)\n",
    "        pair=min(pair_counts,key=lambda p:merges.get(p,float(\"inf\")))\n",
    "        if pair not in merges:\n",
    "            break\n",
    "        idx = merges[pair]\n",
    "        tokens=merges(tokens,pair,idx)\n",
    "    return tokens"
   ]
  },
  {
   "cell_type": "code",
   "execution_count": 129,
   "metadata": {},
   "outputs": [
    {
     "data": {
      "text/plain": [
       "[116, 101, 120, 116]"
      ]
     },
     "execution_count": 129,
     "metadata": {},
     "output_type": "execute_result"
    }
   ],
   "source": [
    "encoder(\"text\")"
   ]
  }
 ],
 "metadata": {
  "kernelspec": {
   "display_name": "Python 3",
   "language": "python",
   "name": "python3"
  },
  "language_info": {
   "codemirror_mode": {
    "name": "ipython",
    "version": 3
   },
   "file_extension": ".py",
   "mimetype": "text/x-python",
   "name": "python",
   "nbconvert_exporter": "python",
   "pygments_lexer": "ipython3",
   "version": "3.10.7"
  }
 },
 "nbformat": 4,
 "nbformat_minor": 2
}
